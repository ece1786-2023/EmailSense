{
 "cells": [
  {
   "cell_type": "code",
   "execution_count": 1,
   "metadata": {},
   "outputs": [],
   "source": [
    "import os\n",
    "import pandas as pd"
   ]
  },
  {
   "cell_type": "code",
   "execution_count": 2,
   "metadata": {},
   "outputs": [],
   "source": [
    "category = \"recommendation\"\n",
    "ID = \"RECOM\""
   ]
  },
  {
   "cell_type": "code",
   "execution_count": 3,
   "metadata": {},
   "outputs": [],
   "source": [
    "filenames = []\n",
    "synthetic = []\n",
    "references = []\n",
    "Categories = []\n",
    "time_sensitive = []\n",
    "for filename in os.listdir(\"../../dataset/\" + category):\n",
    "    filenames.append(filename)\n",
    "    references.append(\"\")\n",
    "    Categories.append(ID)\n",
    "    time_sensitive.append(\"NO\")\n",
    "    if (\"synthetic\" in filename):\n",
    "        synthetic.append(\"yes\")\n",
    "    else:\n",
    "        synthetic.append(\"no\")\n"
   ]
  },
  {
   "cell_type": "code",
   "execution_count": 4,
   "metadata": {},
   "outputs": [
    {
     "name": "stdout",
     "output_type": "stream",
     "text": [
      "            filename synthetic reference category time_sensitive\n",
      "0   synthetic_11.txt       yes              RECOM             NO\n",
      "1   synthetic_12.txt       yes              RECOM             NO\n",
      "2   synthetic_13.txt       yes              RECOM             NO\n",
      "3   synthetic_14.txt       yes              RECOM             NO\n",
      "4   synthetic_15.txt       yes              RECOM             NO\n",
      "5   synthetic_16.txt       yes              RECOM             NO\n",
      "6   synthetic_17.txt       yes              RECOM             NO\n",
      "7   synthetic_18.txt       yes              RECOM             NO\n",
      "8   synthetic_19.txt       yes              RECOM             NO\n",
      "9   synthetic_20.txt       yes              RECOM             NO\n",
      "10  synthetic_21.txt       yes              RECOM             NO\n",
      "11  synthetic_22.txt       yes              RECOM             NO\n",
      "12  synthetic_23.txt       yes              RECOM             NO\n",
      "13  synthetic_24.txt       yes              RECOM             NO\n",
      "14  synthetic_25.txt       yes              RECOM             NO\n",
      "15  synthetic_26.txt       yes              RECOM             NO\n",
      "16  synthetic_27.txt       yes              RECOM             NO\n",
      "17  synthetic_28.txt       yes              RECOM             NO\n",
      "18  synthetic_29.txt       yes              RECOM             NO\n",
      "19  synthetic_30.txt       yes              RECOM             NO\n",
      "20  synthetic_31.txt       yes              RECOM             NO\n",
      "21  synthetic_32.txt       yes              RECOM             NO\n",
      "22  synthetic_33.txt       yes              RECOM             NO\n",
      "23  synthetic_34.txt       yes              RECOM             NO\n",
      "24  synthetic_35.txt       yes              RECOM             NO\n",
      "25  synthetic_36.txt       yes              RECOM             NO\n",
      "26  synthetic_37.txt       yes              RECOM             NO\n",
      "27  synthetic_38.txt       yes              RECOM             NO\n",
      "28  synthetic_39.txt       yes              RECOM             NO\n",
      "29  synthetic_40.txt       yes              RECOM             NO\n",
      "30  synthetic_41.txt       yes              RECOM             NO\n",
      "31  synthetic_42.txt       yes              RECOM             NO\n",
      "32  synthetic_43.txt       yes              RECOM             NO\n",
      "33  synthetic_44.txt       yes              RECOM             NO\n",
      "34  synthetic_45.txt       yes              RECOM             NO\n",
      "35  synthetic_46.txt       yes              RECOM             NO\n",
      "36  synthetic_47.txt       yes              RECOM             NO\n",
      "37  synthetic_48.txt       yes              RECOM             NO\n",
      "38  synthetic_49.txt       yes              RECOM             NO\n",
      "39  synthetic_50.txt       yes              RECOM             NO\n"
     ]
    }
   ],
   "source": [
    "\n",
    "table = pd.DataFrame(list(zip(filenames, synthetic, references, Categories, time_sensitive)), columns = ['filename', 'synthetic', 'reference', 'category', 'time_sensitive'])\n",
    "table = table.sort_values('filename', ignore_index=True)\n",
    "print(table)\n",
    "table.to_csv(\"../../dataset/\" + category + \"/\" + category + \".csv\")"
   ]
  }
 ],
 "metadata": {
  "kernelspec": {
   "display_name": "Python 3",
   "language": "python",
   "name": "python3"
  },
  "language_info": {
   "codemirror_mode": {
    "name": "ipython",
    "version": 3
   },
   "file_extension": ".py",
   "mimetype": "text/x-python",
   "name": "python",
   "nbconvert_exporter": "python",
   "pygments_lexer": "ipython3",
   "version": "3.10.12"
  }
 },
 "nbformat": 4,
 "nbformat_minor": 2
}
