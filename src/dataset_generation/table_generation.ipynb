{
 "cells": [
  {
   "cell_type": "code",
   "execution_count": 11,
   "metadata": {},
   "outputs": [],
   "source": [
    "import os\n",
    "import pandas as pd"
   ]
  },
  {
   "cell_type": "code",
   "execution_count": 12,
   "metadata": {},
   "outputs": [],
   "source": [
    "category = \"other\"\n",
    "ID = \"OTHER\""
   ]
  },
  {
   "cell_type": "code",
   "execution_count": 13,
   "metadata": {},
   "outputs": [],
   "source": [
    "filenames = []\n",
    "synthetic = []\n",
    "references = []\n",
    "Categories = []\n",
    "time_sensitive = []\n",
    "for filename in os.listdir(\"../../dataset/\" + category):\n",
    "    filenames.append(filename)\n",
    "    references.append(\"\")\n",
    "    Categories.append(ID)\n",
    "    time_sensitive.append(\"NO\")\n",
    "    if (\"synthetic\" in filename):\n",
    "        synthetic.append(\"yes\")\n",
    "    else:\n",
    "        synthetic.append(\"no\")\n"
   ]
  },
  {
   "cell_type": "code",
   "execution_count": 14,
   "metadata": {},
   "outputs": [
    {
     "name": "stdout",
     "output_type": "stream",
     "text": [
      "            filename synthetic reference category time_sensitive\n",
      "0              1.txt        no              OTHER             NO\n",
      "1             10.txt        no              OTHER             NO\n",
      "2              2.txt        no              OTHER             NO\n",
      "3              3.txt        no              OTHER             NO\n",
      "4              4.txt        no              OTHER             NO\n",
      "5              5.txt        no              OTHER             NO\n",
      "6              6.txt        no              OTHER             NO\n",
      "7              7.txt        no              OTHER             NO\n",
      "8              8.txt        no              OTHER             NO\n",
      "9              9.txt        no              OTHER             NO\n",
      "10  synthetic_11.txt       yes              OTHER             NO\n",
      "11  synthetic_12.txt       yes              OTHER             NO\n",
      "12  synthetic_13.txt       yes              OTHER             NO\n",
      "13  synthetic_14.txt       yes              OTHER             NO\n",
      "14  synthetic_15.txt       yes              OTHER             NO\n",
      "15  synthetic_16.txt       yes              OTHER             NO\n",
      "16  synthetic_17.txt       yes              OTHER             NO\n",
      "17  synthetic_18.txt       yes              OTHER             NO\n",
      "18  synthetic_19.txt       yes              OTHER             NO\n",
      "19  synthetic_20.txt       yes              OTHER             NO\n",
      "20  synthetic_21.txt       yes              OTHER             NO\n",
      "21  synthetic_22.txt       yes              OTHER             NO\n",
      "22  synthetic_23.txt       yes              OTHER             NO\n",
      "23  synthetic_24.txt       yes              OTHER             NO\n",
      "24  synthetic_25.txt       yes              OTHER             NO\n",
      "25  synthetic_26.txt       yes              OTHER             NO\n",
      "26  synthetic_27.txt       yes              OTHER             NO\n",
      "27  synthetic_28.txt       yes              OTHER             NO\n",
      "28  synthetic_29.txt       yes              OTHER             NO\n",
      "29  synthetic_30.txt       yes              OTHER             NO\n",
      "30  synthetic_31.txt       yes              OTHER             NO\n",
      "31  synthetic_32.txt       yes              OTHER             NO\n",
      "32  synthetic_33.txt       yes              OTHER             NO\n",
      "33  synthetic_34.txt       yes              OTHER             NO\n",
      "34  synthetic_35.txt       yes              OTHER             NO\n",
      "35  synthetic_36.txt       yes              OTHER             NO\n",
      "36  synthetic_37.txt       yes              OTHER             NO\n",
      "37  synthetic_38.txt       yes              OTHER             NO\n",
      "38  synthetic_39.txt       yes              OTHER             NO\n",
      "39  synthetic_40.txt       yes              OTHER             NO\n",
      "40  synthetic_41.txt       yes              OTHER             NO\n",
      "41  synthetic_42.txt       yes              OTHER             NO\n",
      "42  synthetic_43.txt       yes              OTHER             NO\n",
      "43  synthetic_44.txt       yes              OTHER             NO\n",
      "44  synthetic_45.txt       yes              OTHER             NO\n",
      "45  synthetic_46.txt       yes              OTHER             NO\n",
      "46  synthetic_47.txt       yes              OTHER             NO\n",
      "47  synthetic_48.txt       yes              OTHER             NO\n",
      "48  synthetic_49.txt       yes              OTHER             NO\n",
      "49  synthetic_50.txt       yes              OTHER             NO\n"
     ]
    }
   ],
   "source": [
    "\n",
    "table = pd.DataFrame(list(zip(filenames, synthetic, references, Categories, time_sensitive)), columns = ['filename', 'synthetic', 'reference', 'category', 'time_sensitive'])\n",
    "table = table.sort_values('filename', ignore_index=True)\n",
    "print(table)\n",
    "table.to_csv(\"../../dataset/\" + category + \"/\" + category + \".csv\")"
   ]
  },
  {
   "cell_type": "code",
   "execution_count": 37,
   "metadata": {},
   "outputs": [
    {
     "name": "stdout",
     "output_type": "stream",
     "text": [
      "             filename synthetic  reference category time_sensitive\n",
      "0               1.txt        no        NaN    RECOM             NO\n",
      "1              10.txt        no        NaN    RECOM             NO\n",
      "2               2.txt        no        NaN    RECOM             NO\n",
      "3               3.txt        no        NaN    RECOM             NO\n",
      "4               4.txt        no        NaN    RECOM             NO\n",
      "..                ...       ...        ...      ...            ...\n",
      "245  synthetic_46.txt       yes        NaN    ADMIN            YES\n",
      "246  synthetic_47.txt       yes        NaN    ADMIN             NO\n",
      "247  synthetic_48.txt       yes        NaN    ADMIN             NO\n",
      "248  synthetic_49.txt       yes        NaN    ADMIN             NO\n",
      "249  synthetic_50.txt       yes        NaN    ADMIN             NO\n",
      "\n",
      "[250 rows x 5 columns]\n"
     ]
    }
   ],
   "source": [
    "frames = []\n",
    "for path in os.listdir(\"../../dataset/\"):\n",
    "    path = \"../../dataset/\" + path\n",
    "    for files in os.walk(path):\n",
    "        csv = [file for file in files[2] if 'csv' in file][-1]\n",
    "        frames.append(pd.read_csv(os.path.join(path, csv), index_col=0))\n",
    "final_df = pd.concat(frames, ignore_index=True)\n",
    "print(final_df)\n",
    "final_df.to_csv('../../dataset/dataset.csv', index=True)"
   ]
  }
 ],
 "metadata": {
  "kernelspec": {
   "display_name": "Python 3",
   "language": "python",
   "name": "python3"
  },
  "language_info": {
   "codemirror_mode": {
    "name": "ipython",
    "version": 3
   },
   "file_extension": ".py",
   "mimetype": "text/x-python",
   "name": "python",
   "nbconvert_exporter": "python",
   "pygments_lexer": "ipython3",
   "version": "3.10.12"
  }
 },
 "nbformat": 4,
 "nbformat_minor": 2
}
